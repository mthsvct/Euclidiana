{
 "cells": [
  {
   "cell_type": "code",
   "execution_count": 1,
   "metadata": {},
   "outputs": [],
   "source": [
    "import math\n"
   ]
  },
  {
   "cell_type": "code",
   "execution_count": 2,
   "metadata": {},
   "outputs": [],
   "source": [
    "cs = [(6,2), (14,9), (5,14), (3,9)]"
   ]
  },
  {
   "cell_type": "code",
   "execution_count": 3,
   "metadata": {},
   "outputs": [],
   "source": [
    "svs = [(5,7), (2,5), (6,11)]"
   ]
  },
  {
   "cell_type": "code",
   "execution_count": 4,
   "metadata": {},
   "outputs": [],
   "source": [
    "dists = []"
   ]
  },
  {
   "cell_type": "markdown",
   "metadata": {},
   "source": [
    "## Euclidiana"
   ]
  },
  {
   "cell_type": "code",
   "execution_count": 5,
   "metadata": {},
   "outputs": [],
   "source": [
    "for index, c in enumerate(cs):\n",
    "    for indexS, sv in enumerate(svs):\n",
    "\n",
    "        x1, y1 = c\n",
    "        x2, y2 = sv\n",
    "\n",
    "        # distancia = math.sqrt(\n",
    "        #     ((c[0] - sv[0]) ** 2) + ((c[1] - sv[1]) ** 2)\n",
    "        # )\n",
    "\n",
    "\n",
    "        dif1 = x2 - x1\n",
    "        dif2 = y2 - y1\n",
    "\n",
    "        distancia = math.sqrt( (dif1 ** 2) + (dif2 ** 2) )\n",
    "\n",
    "        novo = {\n",
    "            'partida_C': index+1,\n",
    "            'partida_SV': indexS+1,\n",
    "            'distancia': round(distancia, 2)\n",
    "        }\n",
    "\n",
    "        dists.append(novo)"
   ]
  },
  {
   "cell_type": "code",
   "execution_count": 6,
   "metadata": {},
   "outputs": [
    {
     "data": {
      "text/plain": [
       "[{'partida_C': 1, 'partida_SV': 1, 'distancia': 5.1},\n",
       " {'partida_C': 1, 'partida_SV': 2, 'distancia': 5.0},\n",
       " {'partida_C': 1, 'partida_SV': 3, 'distancia': 9.0},\n",
       " {'partida_C': 2, 'partida_SV': 1, 'distancia': 9.22},\n",
       " {'partida_C': 2, 'partida_SV': 2, 'distancia': 12.65},\n",
       " {'partida_C': 2, 'partida_SV': 3, 'distancia': 8.25},\n",
       " {'partida_C': 3, 'partida_SV': 1, 'distancia': 7.0},\n",
       " {'partida_C': 3, 'partida_SV': 2, 'distancia': 9.49},\n",
       " {'partida_C': 3, 'partida_SV': 3, 'distancia': 3.16},\n",
       " {'partida_C': 4, 'partida_SV': 1, 'distancia': 2.83},\n",
       " {'partida_C': 4, 'partida_SV': 2, 'distancia': 4.12},\n",
       " {'partida_C': 4, 'partida_SV': 3, 'distancia': 3.61}]"
      ]
     },
     "execution_count": 6,
     "metadata": {},
     "output_type": "execute_result"
    }
   ],
   "source": [
    "dists"
   ]
  },
  {
   "cell_type": "code",
   "execution_count": 7,
   "metadata": {},
   "outputs": [
    {
     "name": "stdout",
     "output_type": "stream",
     "text": [
      "A distância entre CV1 e SV1 é: 5.10\n",
      "A distância entre CV1 e SV2 é: 5.00\n",
      "A distância entre CV1 e SV3 é: 9.00\n",
      "A distância entre CV2 e SV1 é: 9.22\n",
      "A distância entre CV2 e SV2 é: 12.65\n",
      "A distância entre CV2 e SV3 é: 8.25\n",
      "A distância entre CV3 e SV1 é: 7.00\n",
      "A distância entre CV3 e SV2 é: 9.49\n",
      "A distância entre CV3 e SV3 é: 3.16\n",
      "A distância entre CV4 e SV1 é: 2.83\n",
      "A distância entre CV4 e SV2 é: 4.12\n",
      "A distância entre CV4 e SV3 é: 3.61\n"
     ]
    }
   ],
   "source": [
    "import math\n",
    "\n",
    "def distancia_entre_dois_pontos(ponto1, ponto2):\n",
    "    i1, j1 = ponto1\n",
    "    i2, j2 = ponto2\n",
    "\n",
    "    diferenca_i = i2 - i1\n",
    "    diferenca_j = j2 - j1\n",
    "\n",
    "    distancia = math.sqrt(diferenca_i**2 + diferenca_j**2)\n",
    "    return distancia\n",
    "\n",
    "# Coordenadas dos CVs e SVs\n",
    "coordenadas_cvs = [(6, 2), (14, 9), (5, 14), (3, 9)]\n",
    "coordenadas_svs = [(5, 7), (2, 5), (6, 11)]\n",
    "\n",
    "# Calculando as distâncias e exibindo os resultados\n",
    "for cv_idx, cv_coord in enumerate(coordenadas_cvs):\n",
    "    for sv_idx, sv_coord in enumerate(coordenadas_svs):\n",
    "        distancia = distancia_entre_dois_pontos(cv_coord, sv_coord)\n",
    "        print(f\"A distância entre CV{cv_idx+1} e SV{sv_idx+1} é: {distancia:.2f}\")"
   ]
  }
 ],
 "metadata": {
  "kernelspec": {
   "display_name": "Python 3",
   "language": "python",
   "name": "python3"
  },
  "language_info": {
   "codemirror_mode": {
    "name": "ipython",
    "version": 3
   },
   "file_extension": ".py",
   "mimetype": "text/x-python",
   "name": "python",
   "nbconvert_exporter": "python",
   "pygments_lexer": "ipython3",
   "version": "3.8.10"
  },
  "orig_nbformat": 4
 },
 "nbformat": 4,
 "nbformat_minor": 2
}
